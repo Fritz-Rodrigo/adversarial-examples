{
 "cells": [
  {
   "cell_type": "code",
   "execution_count": 1,
   "id": "bbed2b7a",
   "metadata": {},
   "outputs": [],
   "source": [
    "from tensorflow.contrib.slim.nets import inception"
   ]
  },
  {
   "cell_type": "code",
   "execution_count": 17,
   "id": "f033477a",
   "metadata": {},
   "outputs": [],
   "source": [
    "import tensorflow as tf\n"
   ]
  },
  {
   "cell_type": "code",
   "execution_count": 22,
   "id": "75e464cc",
   "metadata": {},
   "outputs": [],
   "source": [
    "slim = tf.contr"
   ]
  },
  {
   "cell_type": "code",
   "execution_count": 19,
   "id": "dff17c48",
   "metadata": {},
   "outputs": [
    {
     "data": {
      "text/plain": [
       "<module 'tensorflow.contrib.slim' from '/Applications/anaconda3/envs/adversarial-images/lib/python3.7/site-packages/tensorflow_core/contrib/slim/__init__.py'>"
      ]
     },
     "execution_count": 19,
     "metadata": {},
     "output_type": "execute_result"
    }
   ],
   "source": [
    "saver = tf.train.Saver(slim.get_model_variables())"
   ]
  }
 ],
 "metadata": {
  "kernelspec": {
   "display_name": "Python 3",
   "language": "python",
   "name": "python3"
  },
  "language_info": {
   "codemirror_mode": {
    "name": "ipython",
    "version": 3
   },
   "file_extension": ".py",
   "mimetype": "text/x-python",
   "name": "python",
   "nbconvert_exporter": "python",
   "pygments_lexer": "ipython3",
   "version": "3.7.10"
  }
 },
 "nbformat": 4,
 "nbformat_minor": 5
}
