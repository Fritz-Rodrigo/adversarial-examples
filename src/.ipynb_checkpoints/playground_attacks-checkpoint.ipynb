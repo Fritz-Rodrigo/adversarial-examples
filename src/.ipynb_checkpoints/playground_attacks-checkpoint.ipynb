{
 "cells": [
  {
   "cell_type": "code",
   "execution_count": 10,
   "id": "4f12925f",
   "metadata": {},
   "outputs": [],
   "source": [
    "from tensorflow.contrib.slim.nets import inception\n",
    "import tensorflow as tf\n",
    "import matlab.engine\n",
    "from config import Config\n",
    "from cleverhans.attacks import FastGradientMethod\n",
    "import numpy as np\n",
    "import os\n",
    "from scipy.misc import imread\n",
    "from scipy.misc import imsave\n",
    "from io import BytesIO\n",
    "from PIL import Image\n",
    "import IPython.display"
   ]
  },
  {
   "cell_type": "code",
   "execution_count": 11,
   "id": "33867779",
   "metadata": {},
   "outputs": [],
   "source": [
    "class InceptionModel(object):\n",
    "    def __init__(self, num_classes):\n",
    "        self.num_classes = num_classes\n",
    "        self.built = False\n",
    "\n",
    "    def __call__(self, x_input):\n",
    "        \"\"\"Constructs model and return probabilities for given input.\"\"\"\n",
    "        reuse = True if self.built else None\n",
    "        with slim.arg_scope(inception.inception_v3_arg_scope()):\n",
    "            _, end_points = inception.inception_v3(\n",
    "                            x_input, num_classes=self.num_classes, is_training=False,\n",
    "                            reuse=reuse)\n",
    "        self.built = True\n",
    "        output = end_points['Predictions']\n",
    "        probs = output.op.inputs[0]\n",
    "        return probs"
   ]
  },
  {
   "cell_type": "code",
   "execution_count": 12,
   "id": "e9073a04",
   "metadata": {},
   "outputs": [],
   "source": [
    "conf = Config();\n",
    "tf.logging.set_verbosity(tf.logging.INFO)"
   ]
  },
  {
   "cell_type": "code",
   "execution_count": 13,
   "id": "f033477a",
   "metadata": {},
   "outputs": [],
   "source": [
    "image_width       = 299\n",
    "image_height      = 299\n",
    "checkpoint_path   = \"../../inception_v3.ckpt\"\n",
    "input_dir         = './images'\n",
    "tensorflow_master = \"\"\n",
    "\n",
    "slim = tf.contrib.slim\n",
    "batch_shape = conf.batch_shape\n",
    "num_classes = 1001"
   ]
  },
  {
   "cell_type": "code",
   "execution_count": 14,
   "id": "37836065",
   "metadata": {},
   "outputs": [],
   "source": [
    "max_epsilon       = 16.0\n",
    "eps               = 2.0 * max_epsilon / 255.0"
   ]
  },
  {
   "cell_type": "code",
   "execution_count": 15,
   "id": "11195575",
   "metadata": {},
   "outputs": [],
   "source": [
    "conf.subset_num = 16"
   ]
  },
  {
   "cell_type": "code",
   "execution_count": 16,
   "id": "00639216",
   "metadata": {},
   "outputs": [
    {
     "ename": "FileNotFoundError",
     "evalue": "[Errno 2] No such file or directory: 'dataset/attack/benign'",
     "output_type": "error",
     "traceback": [
      "\u001b[0;31m---------------------------------------------------------------------------\u001b[0m",
      "\u001b[0;31mFileNotFoundError\u001b[0m                         Traceback (most recent call last)",
      "\u001b[0;32m<ipython-input-16-865ff7e1d53e>\u001b[0m in \u001b[0;36m<module>\u001b[0;34m\u001b[0m\n\u001b[1;32m     11\u001b[0m \u001b[0mrandom_seed\u001b[0m \u001b[0;34m=\u001b[0m \u001b[0mconf\u001b[0m\u001b[0;34m.\u001b[0m\u001b[0mrandom_seed\u001b[0m\u001b[0;34m\u001b[0m\u001b[0;34m\u001b[0m\u001b[0m\n\u001b[1;32m     12\u001b[0m \u001b[0msubset_num\u001b[0m  \u001b[0;34m=\u001b[0m \u001b[0mconf\u001b[0m\u001b[0;34m.\u001b[0m\u001b[0msubset_num\u001b[0m\u001b[0;34m\u001b[0m\u001b[0;34m\u001b[0m\u001b[0m\n\u001b[0;32m---> 13\u001b[0;31m \u001b[0mimage_list\u001b[0m \u001b[0;34m=\u001b[0m \u001b[0mget_image_list\u001b[0m\u001b[0;34m(\u001b[0m\u001b[0mbenign_dir\u001b[0m\u001b[0;34m,\u001b[0m \u001b[0mrandom_seed\u001b[0m\u001b[0;34m,\u001b[0m \u001b[0msubset_num\u001b[0m\u001b[0;34m)\u001b[0m\u001b[0;34m\u001b[0m\u001b[0;34m\u001b[0m\u001b[0m\n\u001b[0m\u001b[1;32m     14\u001b[0m \u001b[0mimage_list\u001b[0m \u001b[0;34m=\u001b[0m \u001b[0;34m[\u001b[0m\u001b[0;34m'0c7ac4a8c9dfa802.png'\u001b[0m\u001b[0;34m]\u001b[0m\u001b[0;34m\u001b[0m\u001b[0;34m\u001b[0m\u001b[0m\n\u001b[1;32m     15\u001b[0m \u001b[0mimg_fmt\u001b[0m \u001b[0;34m=\u001b[0m \u001b[0;34m'jpg'\u001b[0m\u001b[0;34m\u001b[0m\u001b[0;34m\u001b[0m\u001b[0m\n",
      "\u001b[0;32m<ipython-input-8-0be735725d72>\u001b[0m in \u001b[0;36mget_image_list\u001b[0;34m(benign_dir, random_seed, subset_num)\u001b[0m\n\u001b[1;32m      1\u001b[0m \u001b[0;32mdef\u001b[0m \u001b[0mget_image_list\u001b[0m\u001b[0;34m(\u001b[0m\u001b[0mbenign_dir\u001b[0m\u001b[0;34m,\u001b[0m \u001b[0mrandom_seed\u001b[0m\u001b[0;34m,\u001b[0m \u001b[0msubset_num\u001b[0m\u001b[0;34m)\u001b[0m\u001b[0;34m:\u001b[0m\u001b[0;34m\u001b[0m\u001b[0;34m\u001b[0m\u001b[0m\n\u001b[0;32m----> 2\u001b[0;31m     \u001b[0mimages_whole\u001b[0m      \u001b[0;34m=\u001b[0m \u001b[0;34m[\u001b[0m\u001b[0mf\u001b[0m \u001b[0;32mfor\u001b[0m \u001b[0mf\u001b[0m \u001b[0;32min\u001b[0m \u001b[0mos\u001b[0m\u001b[0;34m.\u001b[0m\u001b[0mlistdir\u001b[0m\u001b[0;34m(\u001b[0m\u001b[0mbenign_dir\u001b[0m\u001b[0;34m)\u001b[0m \u001b[0;32mif\u001b[0m \u001b[0mos\u001b[0m\u001b[0;34m.\u001b[0m\u001b[0mpath\u001b[0m\u001b[0;34m.\u001b[0m\u001b[0misfile\u001b[0m\u001b[0;34m(\u001b[0m\u001b[0mos\u001b[0m\u001b[0;34m.\u001b[0m\u001b[0mpath\u001b[0m\u001b[0;34m.\u001b[0m\u001b[0mjoin\u001b[0m\u001b[0;34m(\u001b[0m\u001b[0mbenign_dir\u001b[0m\u001b[0;34m,\u001b[0m \u001b[0mf\u001b[0m\u001b[0;34m)\u001b[0m\u001b[0;34m)\u001b[0m\u001b[0;34m]\u001b[0m\u001b[0;34m\u001b[0m\u001b[0;34m\u001b[0m\u001b[0m\n\u001b[0m\u001b[1;32m      3\u001b[0m     \u001b[0mimages_whole\u001b[0m      \u001b[0;34m=\u001b[0m \u001b[0msorted\u001b[0m\u001b[0;34m(\u001b[0m\u001b[0mimages_whole\u001b[0m\u001b[0;34m)\u001b[0m\u001b[0;34m\u001b[0m\u001b[0;34m\u001b[0m\u001b[0m\n\u001b[1;32m      4\u001b[0m \u001b[0;34m\u001b[0m\u001b[0m\n\u001b[1;32m      5\u001b[0m     \u001b[0;32mif\u001b[0m \u001b[0mrandom_seed\u001b[0m \u001b[0;34m!=\u001b[0m \u001b[0;32mNone\u001b[0m\u001b[0;34m:\u001b[0m\u001b[0;34m\u001b[0m\u001b[0;34m\u001b[0m\u001b[0m\n",
      "\u001b[0;31mFileNotFoundError\u001b[0m: [Errno 2] No such file or directory: 'dataset/attack/benign'"
     ]
    }
   ],
   "source": [
    "dataset_path     = \"dataset/\"\n",
    "attack_base_dir  = dataset_path + \"attack/\"\n",
    "denoise_base_dir = dataset_path + \"DenoisedSamples/\"\n",
    "benign_dir        = dataset_path + \"attack/benign\"\n",
    "\n",
    "defense_name = \"jpeg_75\"\n",
    "attack_save_dir = \"dataset/attack\"\n",
    "denoised_benign_dir = dataset_path + \"/DenoisedSamples/\"+defense_name+\"/benign\"\n",
    "\n",
    "\n",
    "random_seed = conf.random_seed\n",
    "subset_num  = conf.subset_num\n",
    "image_list = get_image_list(benign_dir, random_seed, subset_num)\n",
    "image_list = ['0c7ac4a8c9dfa802.png']\n",
    "img_fmt = 'jpg'"
   ]
  },
  {
   "cell_type": "code",
   "execution_count": null,
   "id": "34c4b288",
   "metadata": {},
   "outputs": [],
   "source": [
    "image_list"
   ]
  },
  {
   "cell_type": "code",
   "execution_count": null,
   "id": "13865b81",
   "metadata": {
    "scrolled": false
   },
   "outputs": [],
   "source": [
    "image_iterator = load_images_helper(input_dir, batch_shape)\n",
    "filenames, images = next(image_iterator)"
   ]
  },
  {
   "cell_type": "code",
   "execution_count": null,
   "id": "672f7dc8",
   "metadata": {},
   "outputs": [],
   "source": [
    "images = load_images_helper(image_list, benign_dir, denoised_benign_dir, batch_shape, img_fmt)"
   ]
  },
  {
   "cell_type": "code",
   "execution_count": null,
   "id": "433ec048",
   "metadata": {},
   "outputs": [],
   "source": [
    "for eps in np.linspace(0.01, 0.1, num=10):\n",
    "    adv_args = {'eps': eps, 'clip_min':-1., 'clip_max':1., 'nb_iter':1}\n",
    "    with tf.Graph().as_default():\n",
    "                with tf.Session() as sess:\n",
    "                    x_benign = tf.placeholder(tf.float32, shape=batch_shape)\n",
    "                    x_denoised = tf.placeholder(tf.float32, shape=batch_shape)\n",
    "                    model = InceptionModel(num_classes)\n",
    "                    adv_method  = FastGradientMethod(model, sess=sess)\n",
    "                    x_adv = adv_method.generate(x_benign, **adv_args)\n",
    "\n",
    "                    predicted_labels, nb_classes = adv_method.get_or_guess_labels(x_benign, {})\n",
    "                    predicted_labels = tf.argmax(predicted_labels, 1)\n",
    "                    print(nb_classes)\n",
    "\n",
    "                    sess.run(tf.global_variables_initializer())\n",
    "                    saver = tf.train.Saver(slim.get_model_variables())\n",
    "                    saver.restore(sess, checkpoint_path)\n",
    "                    save_dir_path = attack_save_dir+'/'+defense_name+'/'+str(eps)+'/'\n",
    "                    os.mkdir(save_dir_path)\n",
    "                    print('entering loop')\n",
    "                    for filenames, denoised_images, images in load_images_helper(image_list, benign_dir, denoised_benign_dir, batch_shape, img_fmt):\n",
    "                        print(len(filenames))\n",
    "                        print(np.linalg.norm(denoised_images[0] - images[0]))\n",
    "                        nontargeted_images = sess.run(x_adv, feed_dict={x_denoised: denoised_images, x_benign : images})\n",
    "                        save_images(nontargeted_images, filenames, save_dir_path)"
   ]
  },
  {
   "cell_type": "code",
   "execution_count": 17,
   "id": "66240caa",
   "metadata": {},
   "outputs": [],
   "source": [
    "dataset_path     = \"dataset/\"\n",
    "attack_base_dir  = dataset_path + \"attack/\"\n",
    "denoise_base_dir = dataset_path + \"DenoisedSamples/\"\n",
    "benign_dir        = dataset_path + \"/benign\"\n",
    "\n",
    "defense_name = \"pca_whole_5\"\n",
    "attack_save_dir = \"dataset/attack\"\n",
    "denoised_benign_dir = dataset_path + \"DenoisedSamples/\"+defense_name+\"/benign\""
   ]
  },
  {
   "cell_type": "code",
   "execution_count": 18,
   "id": "e2591364",
   "metadata": {},
   "outputs": [],
   "source": [
    "image_list = ['0c7ac4a8c9dfa802.png']\n",
    "batch_shape = [1, 299, 299, 3]"
   ]
  },
  {
   "cell_type": "code",
   "execution_count": 19,
   "id": "041c972d",
   "metadata": {},
   "outputs": [],
   "source": [
    "imgdir_path = benign_dir\n",
    "imgdir_denoised = denoised_benign_dir\n",
    "batch_shape = conf.batch_shape \n",
    "img_fmt = 'png'"
   ]
  },
  {
   "cell_type": "code",
   "execution_count": null,
   "id": "5cd7b3be",
   "metadata": {},
   "outputs": [],
   "source": [
    "load_images_helper(\n",
    "    image_list, \n",
    "    benign_dir, \n",
    "    denoised_benign_dir, \n",
    "    conf.batch_shape,\n",
    "    'png')"
   ]
  },
  {
   "cell_type": "code",
   "execution_count": 20,
   "id": "f7100d69",
   "metadata": {},
   "outputs": [],
   "source": [
    "filepath = image_list[0]"
   ]
  },
  {
   "cell_type": "code",
   "execution_count": null,
   "id": "e8c1cc4f",
   "metadata": {},
   "outputs": [],
   "source": [
    "\n",
    "# benign unprotected\n",
    "f = tf.gfile.Open(os.path.join(imgdir_path, filepath), \"rb\")\n",
    "im_og = imread(f, mode='RGB').astype(np.float)*2.0/255.0 - 1.0\n",
    "# benign protected (denoised)\n",
    "g = tf.gfile.Open(os.path.join(imgdir_denoised, filepath), \"rb\")\n",
    "im_dn = imread(g, mode='RGB').astype(np.float)*2.0/255.0 - 1.0\n",
    "\n"
   ]
  },
  {
   "cell_type": "code",
   "execution_count": null,
   "id": "d32c06f4",
   "metadata": {},
   "outputs": [],
   "source": [
    "adv_args = {'eps': 0.1, 'clip_min':-1., 'clip_max':1., 'nb_iter':1}\n",
    "graph = tf.Graph()\n",
    "with graph.as_default():\n",
    "    with tf.Session(graph=graph) as sess:\n",
    "        x_benign = tf.placeholder(tf.float32, shape=batch_shape)\n",
    "        x_denoised = tf.placeholder(tf.float32, shape=batch_shape)\n",
    "        \n",
    "        model = InceptionModel(num_classes) # init model\n",
    "        fgsm  = FastGradientMethod(model, sess=sess) # attack method\n",
    "        x_adv = fgsm.generate(x_benign, **adv_args)\n",
    "\n",
    "        predicted_labels, nb_classes = fgsm.get_or_guess_labels(x_benign, {})\n",
    "#         predicted_labels = tf.argmax(predicted_labels, 1)\n",
    "#         print(nb_classes)"
   ]
  },
  {
   "cell_type": "code",
   "execution_count": null,
   "id": "2cfe74c2",
   "metadata": {},
   "outputs": [],
   "source": []
  },
  {
   "cell_type": "code",
   "execution_count": null,
   "id": "e8431b64",
   "metadata": {},
   "outputs": [],
   "source": [
    "def load_images_helper(image_list, imgdir_path, imgdir_denoised, batch_shape, img_fmt):\n",
    "    images = np.zeros(batch_shape)\n",
    "    images_denoised = np.zeros(batch_shape)\n",
    "    filenames = []\n",
    "    idx = 0\n",
    "    batch_size = batch_shape[0]\n",
    "    for filepath in image_list:\n",
    "        with tf.gfile.Open(os.path.join(imgdir_path, filepath), \"rb\") as f:\n",
    "            images[idx, :, :, :] = imread(f, mode='RGB').astype(np.float)*2.0/255.0 - 1.0\n",
    "        if img_fmt == 'jpg':\n",
    "            filepath = filepath.replace('png', img_fmt)\n",
    "        with tf.gfile.Open(os.path.join(imgdir_denoised, filepath), \"rb\") as f:\n",
    "            images_denoised[idx, :, :, :] = imread(f, mode='RGB').astype(np.float)*2.0/255.0 - 1.0\n",
    "        if img_fmt == 'jpg':\n",
    "            filepath = filepath.replace(img_fmt, 'png')\n",
    "        filenames.append(os.path.basename(filepath))\n",
    "        idx += 1\n",
    "        if idx == batch_size:\n",
    "            yield filenames, images_denoised, images\n",
    "            filenames = []\n",
    "            images = np.zeros(batch_shape)\n",
    "            images_denoised = np.zeros(batch_shape)\n",
    "            idx = 0\n",
    "    if idx > 0:\n",
    "        yield filenames, images_denoised, images"
   ]
  },
  {
   "cell_type": "code",
   "execution_count": 8,
   "id": "0c2d1c73",
   "metadata": {},
   "outputs": [],
   "source": [
    "def get_image_list(benign_dir, random_seed, subset_num):\n",
    "    images_whole      = [f for f in os.listdir(benign_dir) if os.path.isfile(os.path.join(benign_dir, f))]\n",
    "    images_whole      = sorted(images_whole)\n",
    "\n",
    "    if random_seed != None:\n",
    "        random.seed(random_seed)\n",
    "        # generate random indices to subset\n",
    "        subset_ids  = random.sample(range(len(images_whole)), subset_num)  \n",
    "    else:\n",
    "        subset_ids  = range(subset_num)\n",
    "\n",
    "    image_list = [images_whole[i] for i in subset_ids]\n",
    "    return image_list"
   ]
  },
  {
   "cell_type": "code",
   "execution_count": 9,
   "id": "23226c9e",
   "metadata": {},
   "outputs": [],
   "source": [
    "def save_images(images, filenames, output_dir):\n",
    "    for i, filename in enumerate(filenames):\n",
    "        img = np.uint8(((images[i, :, :, :] + 1.0) * 0.5) * 255.0)\n",
    "        imsave(output_dir+filename, img)"
   ]
  },
  {
   "cell_type": "code",
   "execution_count": null,
   "id": "14e2ab99",
   "metadata": {},
   "outputs": [],
   "source": [
    "def load_images(input_dir, batch_shape):\n",
    "    images = np.zeros(batch_shape)\n",
    "    filenames = []\n",
    "    idx = 0\n",
    "    batch_size = batch_shape[0]\n",
    "    for filepath in sorted(tf.gfile.Glob(os.path.join(input_dir, '*.png'))):\n",
    "        with tf.gfile.Open(filepath, \"rb\") as f:\n",
    "            images[idx, :, :, :] = imread(f, mode='RGB').astype(np.float)*2.0/255.0 - 1.0\n",
    "        filenames.append(os.path.basename(filepath))\n",
    "        idx += 1\n",
    "        if idx == batch_size:\n",
    "            yield filenames, images\n",
    "            filenames = []\n",
    "            images = np.zeros(batch_shape)\n",
    "            idx = 0\n",
    "    if idx > 0:\n",
    "        yield filenames, images\n",
    "\n",
    "def show_image(a, fmt='png'):\n",
    "    a = np.uint8((a+1.0)/2.0*255.0)\n",
    "    f = BytesIO()\n",
    "    Image.fromarray(a).save(f, fmt)\n",
    "    IPython.display.display(IPython.display.Image(data=f.getvalue()))\n"
   ]
  },
  {
   "cell_type": "code",
   "execution_count": null,
   "id": "7d19cd6e",
   "metadata": {},
   "outputs": [],
   "source": []
  }
 ],
 "metadata": {
  "kernelspec": {
   "display_name": "Python 3",
   "language": "python",
   "name": "python3"
  },
  "language_info": {
   "codemirror_mode": {
    "name": "ipython",
    "version": 3
   },
   "file_extension": ".py",
   "mimetype": "text/x-python",
   "name": "python",
   "nbconvert_exporter": "python",
   "pygments_lexer": "ipython3",
   "version": "3.7.10"
  }
 },
 "nbformat": 4,
 "nbformat_minor": 5
}
