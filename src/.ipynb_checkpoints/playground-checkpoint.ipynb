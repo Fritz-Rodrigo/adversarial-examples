{
 "cells": [
  {
   "cell_type": "code",
   "execution_count": null,
   "id": "fd6bbc98",
   "metadata": {},
   "outputs": [
    {
     "name": "stdout",
     "output_type": "stream",
     "text": [
      "Collecting package metadata (current_repodata.json): done\n",
      "Solving environment: failed with initial frozen solve. Retrying with flexible solve.\n",
      "Collecting package metadata (repodata.json): / "
     ]
    }
   ],
   "source": [
    "!conda install tensorflow==1.2.*"
   ]
  },
  {
   "cell_type": "code",
   "execution_count": 1,
   "id": "1bc162a9",
   "metadata": {},
   "outputs": [],
   "source": [
    "\n",
    "#Libraries\n",
    "import numpy as np\n",
    "import itertools\n",
    "import os\n",
    "import random\n",
    "import tensorflow as tf\n",
    "from cleverhans.attacks import FastGradientMethod\n",
    "from io import BytesIO\n",
    "import IPython.display\n",
    "import numpy as np\n",
    "import pandas as pd\n",
    "from PIL import Image\n",
    "from scipy.misc import imread\n",
    "from scipy.misc import imsave\n",
    "import tensorflow as tf\n",
    "# from tensorflow.contrib.slim.nets import inception\n",
    "\n",
    "from config import Config\n",
    "\n",
    "# Defenses\n",
    "from jpeg_denoise import jpeg\n",
    "from fourier_whole_denoise import fourier_whole, get_subdirs\n",
    "from pca_whole_denoise import pca_whole\n",
    "from pca_blockwise_denoise import pca_blockwise\n"
   ]
  },
  {
   "cell_type": "code",
   "execution_count": null,
   "id": "50d86ab8",
   "metadata": {},
   "outputs": [],
   "source": [
    "config           = Config()\n",
    "dataset_path     = \"dataset/\"\n",
    "attack_base_dir  = dataset_path + \"attack/\"\n",
    "denoise_base_dir = dataset_path + \"DenoisedSamples/\"\n",
    "benign_dir        = dataset_path + \"attack/benign\""
   ]
  },
  {
   "cell_type": "code",
   "execution_count": null,
   "id": "5c710ce0",
   "metadata": {},
   "outputs": [],
   "source": [
    "jpeg_denoise.jpeg(attack_base_dir, denoise_base_dir, 75)"
   ]
  },
  {
   "cell_type": "code",
   "execution_count": null,
   "id": "c72fdfe5",
   "metadata": {},
   "outputs": [],
   "source": [
    "fourier_whole(attack_base_dir, denoise_base_dir, 65, 65)"
   ]
  },
  {
   "cell_type": "code",
   "execution_count": null,
   "id": "d4e62e06",
   "metadata": {},
   "outputs": [],
   "source": [
    "pca_whole(attack_base_dir, denoise_base_dir, 36)"
   ]
  },
  {
   "cell_type": "code",
   "execution_count": null,
   "id": "933da14a",
   "metadata": {},
   "outputs": [],
   "source": [
    "pca_blockwise(attack_base_dir, denoise_base_dir, 2)"
   ]
  },
  {
   "cell_type": "code",
   "execution_count": null,
   "id": "4702e361",
   "metadata": {},
   "outputs": [],
   "source": [
    "pca_blockwise(attack_base_dir, denoise_base_dir, )"
   ]
  },
  {
   "cell_type": "markdown",
   "id": "e2fc0d5c",
   "metadata": {},
   "source": [
    "\n"
   ]
  },
  {
   "cell_type": "markdown",
   "id": "90b4d541",
   "metadata": {},
   "source": [
    " "
   ]
  },
  {
   "cell_type": "markdown",
   "id": "37e97b69",
   "metadata": {},
   "source": [
    " "
   ]
  },
  {
   "cell_type": "markdown",
   "id": "3badbf54",
   "metadata": {},
   "source": [
    " "
   ]
  },
  {
   "cell_type": "markdown",
   "id": "6f1b105d",
   "metadata": {},
   "source": [
    " "
   ]
  },
  {
   "cell_type": "code",
   "execution_count": null,
   "id": "d76284f4",
   "metadata": {},
   "outputs": [],
   "source": [
    "def get_image_list(benign_dir, random_seed, subset_num):\n",
    "    images_whole      = [f for f in os.listdir(benign_dir) if os.path.isfile(os.path.join(benign_dir, f))]\n",
    "    images_whole      = sorted(images_whole)\n",
    "\n",
    "    if random_seed != None:\n",
    "        random.seed(random_seed)\n",
    "        subset_ids  = random.sample(range(len(images_whole)), subset_num)  # generate random indices to subset\n",
    "    else:\n",
    "        subset_ids  = range(subset_num)\n",
    "\n",
    "    image_list = [images_whole[i] for i in subset_ids]\n",
    "    return image_list\n",
    "def load_images(input_dir, batch_shape):\n",
    "    images = np.zeros(batch_shape)\n",
    "    filenames = []\n",
    "    idx = 0\n",
    "    batch_size = batch_shape[0]\n",
    "    for filepath in sorted(tf.gfile.Glob(os.path.join(input_dir, '*.png'))):\n",
    "        with tf.gfile.Open(filepath, \"rb\") as f:\n",
    "            images[idx, :, :, :] = imread(f, mode='RGB').astype(np.float)*2.0/255.0 - 1.0\n",
    "        filenames.append(os.path.basename(filepath))\n",
    "        idx += 1\n",
    "        if idx == batch_size:\n",
    "            yield filenames, images\n",
    "            filenames = []\n",
    "            images = np.zeros(batch_shape)\n",
    "            idx = 0\n",
    "    if idx > 0:\n",
    "        yield filenames, images\n",
    "        \n",
    "def show_image(a, fmt='png'):\n",
    "    a = np.uint8((a+1.0)/2.0*255.0)\n",
    "    f = BytesIO()\n",
    "    Image.fromarray(a).save(f, fmt)\n",
    "    IPython.display.display(IPython.display.Image(data=f.getvalue()))"
   ]
  },
  {
   "cell_type": "code",
   "execution_count": null,
   "id": "7b230a19",
   "metadata": {},
   "outputs": [],
   "source": [
    "image_iterator = load_images(benign_dir, config.batch_shape)"
   ]
  },
  {
   "cell_type": "code",
   "execution_count": null,
   "id": "f176ade1",
   "metadata": {
    "scrolled": true
   },
   "outputs": [],
   "source": [
    "filenames, images = next(image_iterator)\n",
    "show_image(images[0])"
   ]
  },
  {
   "cell_type": "code",
   "execution_count": null,
   "id": "0bb3d87e",
   "metadata": {},
   "outputs": [],
   "source": [
    "show_image(images[12])"
   ]
  },
  {
   "cell_type": "code",
   "execution_count": null,
   "id": "97e5d92e",
   "metadata": {},
   "outputs": [],
   "source": [
    "im_list = list(image_iterator);\n",
    "len(im_list)"
   ]
  },
  {
   "cell_type": "code",
   "execution_count": null,
   "id": "d9d7a961",
   "metadata": {},
   "outputs": [],
   "source": []
  }
 ],
 "metadata": {
  "kernelspec": {
   "display_name": "Python 3",
   "language": "python",
   "name": "python3"
  },
  "language_info": {
   "codemirror_mode": {
    "name": "ipython",
    "version": 3
   },
   "file_extension": ".py",
   "mimetype": "text/x-python",
   "name": "python",
   "nbconvert_exporter": "python",
   "pygments_lexer": "ipython3",
   "version": "3.9.4"
  }
 },
 "nbformat": 4,
 "nbformat_minor": 5
}
